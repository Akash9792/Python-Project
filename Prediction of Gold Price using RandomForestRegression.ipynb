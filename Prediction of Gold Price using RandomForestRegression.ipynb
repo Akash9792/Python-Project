{
 "cells": [
  {
   "cell_type": "code",
   "execution_count": 3,
   "id": "e24bba23",
   "metadata": {},
   "outputs": [],
   "source": [
    "import pandas as pd\n",
    "import numpy as np\n",
    "import matplotlib.pyplot as plt\n",
    "import seaborn as sns\n",
    "from sklearn.model_selection import train_test_split\n",
    "from sklearn.ensemble import RandomForestRegressor\n",
    "from sklearn import metrics\n"
   ]
  },
  {
   "cell_type": "code",
   "execution_count": 4,
   "id": "d56d2886",
   "metadata": {},
   "outputs": [],
   "source": [
    "df=pd.read_csv('D:\\\\gld_price_data.csv')"
   ]
  },
  {
   "cell_type": "code",
   "execution_count": 5,
   "id": "97f369b2",
   "metadata": {},
   "outputs": [
    {
     "data": {
      "text/html": [
       "<div>\n",
       "<style scoped>\n",
       "    .dataframe tbody tr th:only-of-type {\n",
       "        vertical-align: middle;\n",
       "    }\n",
       "\n",
       "    .dataframe tbody tr th {\n",
       "        vertical-align: top;\n",
       "    }\n",
       "\n",
       "    .dataframe thead th {\n",
       "        text-align: right;\n",
       "    }\n",
       "</style>\n",
       "<table border=\"1\" class=\"dataframe\">\n",
       "  <thead>\n",
       "    <tr style=\"text-align: right;\">\n",
       "      <th></th>\n",
       "      <th>Date</th>\n",
       "      <th>SPX</th>\n",
       "      <th>GLD</th>\n",
       "      <th>USO</th>\n",
       "      <th>SLV</th>\n",
       "      <th>EUR/USD</th>\n",
       "    </tr>\n",
       "  </thead>\n",
       "  <tbody>\n",
       "    <tr>\n",
       "      <th>0</th>\n",
       "      <td>1/2/2008</td>\n",
       "      <td>1447.160034</td>\n",
       "      <td>84.860001</td>\n",
       "      <td>78.470001</td>\n",
       "      <td>15.1800</td>\n",
       "      <td>1.471692</td>\n",
       "    </tr>\n",
       "    <tr>\n",
       "      <th>1</th>\n",
       "      <td>1/3/2008</td>\n",
       "      <td>1447.160034</td>\n",
       "      <td>85.570000</td>\n",
       "      <td>78.370003</td>\n",
       "      <td>15.2850</td>\n",
       "      <td>1.474491</td>\n",
       "    </tr>\n",
       "    <tr>\n",
       "      <th>2</th>\n",
       "      <td>1/4/2008</td>\n",
       "      <td>1411.630005</td>\n",
       "      <td>85.129997</td>\n",
       "      <td>77.309998</td>\n",
       "      <td>15.1670</td>\n",
       "      <td>1.475492</td>\n",
       "    </tr>\n",
       "    <tr>\n",
       "      <th>3</th>\n",
       "      <td>1/7/2008</td>\n",
       "      <td>1416.180054</td>\n",
       "      <td>84.769997</td>\n",
       "      <td>75.500000</td>\n",
       "      <td>15.0530</td>\n",
       "      <td>1.468299</td>\n",
       "    </tr>\n",
       "    <tr>\n",
       "      <th>4</th>\n",
       "      <td>1/8/2008</td>\n",
       "      <td>1390.189941</td>\n",
       "      <td>86.779999</td>\n",
       "      <td>76.059998</td>\n",
       "      <td>15.5900</td>\n",
       "      <td>1.557099</td>\n",
       "    </tr>\n",
       "    <tr>\n",
       "      <th>...</th>\n",
       "      <td>...</td>\n",
       "      <td>...</td>\n",
       "      <td>...</td>\n",
       "      <td>...</td>\n",
       "      <td>...</td>\n",
       "      <td>...</td>\n",
       "    </tr>\n",
       "    <tr>\n",
       "      <th>2285</th>\n",
       "      <td>5/8/2018</td>\n",
       "      <td>2671.919922</td>\n",
       "      <td>124.589996</td>\n",
       "      <td>14.060000</td>\n",
       "      <td>15.5100</td>\n",
       "      <td>1.186789</td>\n",
       "    </tr>\n",
       "    <tr>\n",
       "      <th>2286</th>\n",
       "      <td>5/9/2018</td>\n",
       "      <td>2697.790039</td>\n",
       "      <td>124.330002</td>\n",
       "      <td>14.370000</td>\n",
       "      <td>15.5300</td>\n",
       "      <td>1.184722</td>\n",
       "    </tr>\n",
       "    <tr>\n",
       "      <th>2287</th>\n",
       "      <td>5/10/2018</td>\n",
       "      <td>2723.070068</td>\n",
       "      <td>125.180000</td>\n",
       "      <td>14.410000</td>\n",
       "      <td>15.7400</td>\n",
       "      <td>1.191753</td>\n",
       "    </tr>\n",
       "    <tr>\n",
       "      <th>2288</th>\n",
       "      <td>5/14/2018</td>\n",
       "      <td>2730.129883</td>\n",
       "      <td>124.489998</td>\n",
       "      <td>14.380000</td>\n",
       "      <td>15.5600</td>\n",
       "      <td>1.193118</td>\n",
       "    </tr>\n",
       "    <tr>\n",
       "      <th>2289</th>\n",
       "      <td>5/16/2018</td>\n",
       "      <td>2725.780029</td>\n",
       "      <td>122.543800</td>\n",
       "      <td>14.405800</td>\n",
       "      <td>15.4542</td>\n",
       "      <td>1.182033</td>\n",
       "    </tr>\n",
       "  </tbody>\n",
       "</table>\n",
       "<p>2290 rows × 6 columns</p>\n",
       "</div>"
      ],
      "text/plain": [
       "           Date          SPX         GLD        USO      SLV   EUR/USD\n",
       "0      1/2/2008  1447.160034   84.860001  78.470001  15.1800  1.471692\n",
       "1      1/3/2008  1447.160034   85.570000  78.370003  15.2850  1.474491\n",
       "2      1/4/2008  1411.630005   85.129997  77.309998  15.1670  1.475492\n",
       "3      1/7/2008  1416.180054   84.769997  75.500000  15.0530  1.468299\n",
       "4      1/8/2008  1390.189941   86.779999  76.059998  15.5900  1.557099\n",
       "...         ...          ...         ...        ...      ...       ...\n",
       "2285   5/8/2018  2671.919922  124.589996  14.060000  15.5100  1.186789\n",
       "2286   5/9/2018  2697.790039  124.330002  14.370000  15.5300  1.184722\n",
       "2287  5/10/2018  2723.070068  125.180000  14.410000  15.7400  1.191753\n",
       "2288  5/14/2018  2730.129883  124.489998  14.380000  15.5600  1.193118\n",
       "2289  5/16/2018  2725.780029  122.543800  14.405800  15.4542  1.182033\n",
       "\n",
       "[2290 rows x 6 columns]"
      ]
     },
     "execution_count": 5,
     "metadata": {},
     "output_type": "execute_result"
    }
   ],
   "source": [
    "df"
   ]
  },
  {
   "cell_type": "code",
   "execution_count": 6,
   "id": "f30ed2bb",
   "metadata": {},
   "outputs": [
    {
     "data": {
      "text/plain": [
       "Date       0\n",
       "SPX        0\n",
       "GLD        0\n",
       "USO        0\n",
       "SLV        0\n",
       "EUR/USD    0\n",
       "dtype: int64"
      ]
     },
     "execution_count": 6,
     "metadata": {},
     "output_type": "execute_result"
    }
   ],
   "source": [
    "df.isnull().sum()"
   ]
  },
  {
   "cell_type": "code",
   "execution_count": 8,
   "id": "2ac958cb",
   "metadata": {},
   "outputs": [
    {
     "data": {
      "text/html": [
       "<div>\n",
       "<style scoped>\n",
       "    .dataframe tbody tr th:only-of-type {\n",
       "        vertical-align: middle;\n",
       "    }\n",
       "\n",
       "    .dataframe tbody tr th {\n",
       "        vertical-align: top;\n",
       "    }\n",
       "\n",
       "    .dataframe thead th {\n",
       "        text-align: right;\n",
       "    }\n",
       "</style>\n",
       "<table border=\"1\" class=\"dataframe\">\n",
       "  <thead>\n",
       "    <tr style=\"text-align: right;\">\n",
       "      <th></th>\n",
       "      <th>SPX</th>\n",
       "      <th>GLD</th>\n",
       "      <th>USO</th>\n",
       "      <th>SLV</th>\n",
       "      <th>EUR/USD</th>\n",
       "    </tr>\n",
       "  </thead>\n",
       "  <tbody>\n",
       "    <tr>\n",
       "      <th>count</th>\n",
       "      <td>2290.000000</td>\n",
       "      <td>2290.000000</td>\n",
       "      <td>2290.000000</td>\n",
       "      <td>2290.000000</td>\n",
       "      <td>2290.000000</td>\n",
       "    </tr>\n",
       "    <tr>\n",
       "      <th>mean</th>\n",
       "      <td>1654.315776</td>\n",
       "      <td>122.732875</td>\n",
       "      <td>31.842221</td>\n",
       "      <td>20.084997</td>\n",
       "      <td>1.283653</td>\n",
       "    </tr>\n",
       "    <tr>\n",
       "      <th>std</th>\n",
       "      <td>519.111540</td>\n",
       "      <td>23.283346</td>\n",
       "      <td>19.523517</td>\n",
       "      <td>7.092566</td>\n",
       "      <td>0.131547</td>\n",
       "    </tr>\n",
       "    <tr>\n",
       "      <th>min</th>\n",
       "      <td>676.530029</td>\n",
       "      <td>70.000000</td>\n",
       "      <td>7.960000</td>\n",
       "      <td>8.850000</td>\n",
       "      <td>1.039047</td>\n",
       "    </tr>\n",
       "    <tr>\n",
       "      <th>25%</th>\n",
       "      <td>1239.874969</td>\n",
       "      <td>109.725000</td>\n",
       "      <td>14.380000</td>\n",
       "      <td>15.570000</td>\n",
       "      <td>1.171313</td>\n",
       "    </tr>\n",
       "    <tr>\n",
       "      <th>50%</th>\n",
       "      <td>1551.434998</td>\n",
       "      <td>120.580002</td>\n",
       "      <td>33.869999</td>\n",
       "      <td>17.268500</td>\n",
       "      <td>1.303297</td>\n",
       "    </tr>\n",
       "    <tr>\n",
       "      <th>75%</th>\n",
       "      <td>2073.010070</td>\n",
       "      <td>132.840004</td>\n",
       "      <td>37.827501</td>\n",
       "      <td>22.882500</td>\n",
       "      <td>1.369971</td>\n",
       "    </tr>\n",
       "    <tr>\n",
       "      <th>max</th>\n",
       "      <td>2872.870117</td>\n",
       "      <td>184.589996</td>\n",
       "      <td>117.480003</td>\n",
       "      <td>47.259998</td>\n",
       "      <td>1.598798</td>\n",
       "    </tr>\n",
       "  </tbody>\n",
       "</table>\n",
       "</div>"
      ],
      "text/plain": [
       "               SPX          GLD          USO          SLV      EUR/USD\n",
       "count  2290.000000  2290.000000  2290.000000  2290.000000  2290.000000\n",
       "mean   1654.315776   122.732875    31.842221    20.084997     1.283653\n",
       "std     519.111540    23.283346    19.523517     7.092566     0.131547\n",
       "min     676.530029    70.000000     7.960000     8.850000     1.039047\n",
       "25%    1239.874969   109.725000    14.380000    15.570000     1.171313\n",
       "50%    1551.434998   120.580002    33.869999    17.268500     1.303297\n",
       "75%    2073.010070   132.840004    37.827501    22.882500     1.369971\n",
       "max    2872.870117   184.589996   117.480003    47.259998     1.598798"
      ]
     },
     "execution_count": 8,
     "metadata": {},
     "output_type": "execute_result"
    }
   ],
   "source": [
    "df.describe()"
   ]
  },
  {
   "cell_type": "code",
   "execution_count": 21,
   "id": "e5ea9d30",
   "metadata": {},
   "outputs": [],
   "source": [
    "df['Date']= pd.to_datetime(df['Date'])"
   ]
  },
  {
   "cell_type": "code",
   "execution_count": 22,
   "id": "66520dd8",
   "metadata": {},
   "outputs": [],
   "source": [
    "corel=df.corr()"
   ]
  },
  {
   "cell_type": "code",
   "execution_count": 23,
   "id": "0861a13a",
   "metadata": {
    "scrolled": true
   },
   "outputs": [
    {
     "data": {
      "text/html": [
       "<div>\n",
       "<style scoped>\n",
       "    .dataframe tbody tr th:only-of-type {\n",
       "        vertical-align: middle;\n",
       "    }\n",
       "\n",
       "    .dataframe tbody tr th {\n",
       "        vertical-align: top;\n",
       "    }\n",
       "\n",
       "    .dataframe thead th {\n",
       "        text-align: right;\n",
       "    }\n",
       "</style>\n",
       "<table border=\"1\" class=\"dataframe\">\n",
       "  <thead>\n",
       "    <tr style=\"text-align: right;\">\n",
       "      <th></th>\n",
       "      <th>Date</th>\n",
       "      <th>SPX</th>\n",
       "      <th>GLD</th>\n",
       "      <th>USO</th>\n",
       "      <th>SLV</th>\n",
       "      <th>EUR/USD</th>\n",
       "    </tr>\n",
       "  </thead>\n",
       "  <tbody>\n",
       "    <tr>\n",
       "      <th>Date</th>\n",
       "      <td>1.000000</td>\n",
       "      <td>0.944033</td>\n",
       "      <td>0.209118</td>\n",
       "      <td>-0.782230</td>\n",
       "      <td>-0.174108</td>\n",
       "      <td>-0.794540</td>\n",
       "    </tr>\n",
       "    <tr>\n",
       "      <th>SPX</th>\n",
       "      <td>0.944033</td>\n",
       "      <td>1.000000</td>\n",
       "      <td>0.049345</td>\n",
       "      <td>-0.591573</td>\n",
       "      <td>-0.274055</td>\n",
       "      <td>-0.672017</td>\n",
       "    </tr>\n",
       "    <tr>\n",
       "      <th>GLD</th>\n",
       "      <td>0.209118</td>\n",
       "      <td>0.049345</td>\n",
       "      <td>1.000000</td>\n",
       "      <td>-0.186360</td>\n",
       "      <td>0.866632</td>\n",
       "      <td>-0.024375</td>\n",
       "    </tr>\n",
       "    <tr>\n",
       "      <th>USO</th>\n",
       "      <td>-0.782230</td>\n",
       "      <td>-0.591573</td>\n",
       "      <td>-0.186360</td>\n",
       "      <td>1.000000</td>\n",
       "      <td>0.167547</td>\n",
       "      <td>0.829317</td>\n",
       "    </tr>\n",
       "    <tr>\n",
       "      <th>SLV</th>\n",
       "      <td>-0.174108</td>\n",
       "      <td>-0.274055</td>\n",
       "      <td>0.866632</td>\n",
       "      <td>0.167547</td>\n",
       "      <td>1.000000</td>\n",
       "      <td>0.321631</td>\n",
       "    </tr>\n",
       "    <tr>\n",
       "      <th>EUR/USD</th>\n",
       "      <td>-0.794540</td>\n",
       "      <td>-0.672017</td>\n",
       "      <td>-0.024375</td>\n",
       "      <td>0.829317</td>\n",
       "      <td>0.321631</td>\n",
       "      <td>1.000000</td>\n",
       "    </tr>\n",
       "  </tbody>\n",
       "</table>\n",
       "</div>"
      ],
      "text/plain": [
       "             Date       SPX       GLD       USO       SLV   EUR/USD\n",
       "Date     1.000000  0.944033  0.209118 -0.782230 -0.174108 -0.794540\n",
       "SPX      0.944033  1.000000  0.049345 -0.591573 -0.274055 -0.672017\n",
       "GLD      0.209118  0.049345  1.000000 -0.186360  0.866632 -0.024375\n",
       "USO     -0.782230 -0.591573 -0.186360  1.000000  0.167547  0.829317\n",
       "SLV     -0.174108 -0.274055  0.866632  0.167547  1.000000  0.321631\n",
       "EUR/USD -0.794540 -0.672017 -0.024375  0.829317  0.321631  1.000000"
      ]
     },
     "execution_count": 23,
     "metadata": {},
     "output_type": "execute_result"
    }
   ],
   "source": [
    "corel"
   ]
  },
  {
   "cell_type": "code",
   "execution_count": 26,
   "id": "66c3ebfa",
   "metadata": {
    "scrolled": false
   },
   "outputs": [
    {
     "data": {
      "text/plain": [
       "<Axes: >"
      ]
     },
     "execution_count": 26,
     "metadata": {},
     "output_type": "execute_result"
    },
    {
     "data": {
      "image/png": "[encoded data removed]",
      "text/plain": [
       "<Figure size 800x800 with 2 Axes>"
      ]
     },
     "metadata": {},
     "output_type": "display_data"
    }
   ],
   "source": [
    "plt.figure(figsize=(8,8))\n",
    "sns.heatmap(corel,cbar=True, square=True, fmt='.1f',annot=True, annot_kws={'size':8}, cmap='Blues')"
   ]
  },
  {
   "cell_type": "code",
   "execution_count": 27,
   "id": "66838cad",
   "metadata": {},
   "outputs": [
    {
     "name": "stderr",
     "output_type": "stream",
     "text": [
      "C:\\ProgramData\\anaconda3\\Lib\\site-packages\\seaborn\\axisgrid.py:118: UserWarning: The figure layout has changed to tight\n",
      "  self._figure.tight_layout(*args, **kwargs)\n"
     ]
    },
    {
     "data": {
      "text/plain": [
       "<seaborn.axisgrid.FacetGrid at 0x121d183ba50>"
      ]
     },
     "execution_count": 27,
     "metadata": {},
     "output_type": "execute_result"
    },
    {
     "data": {
      "image/png": "[encoded data removed]",
      "text/plain": [
       "<Figure size 500x500 with 1 Axes>"
      ]
     },
     "metadata": {},
     "output_type": "display_data"
    }
   ],
   "source": [
    "sns.displot(df['GLD'], color='Green')"
   ]
  },
  {
   "cell_type": "code",
   "execution_count": 28,
   "id": "a95ae473",
   "metadata": {},
   "outputs": [],
   "source": [
    "x=df.drop(['Date','GLD'], axis=1)"
   ]
  },
  {
   "cell_type": "code",
   "execution_count": 29,
   "id": "6394a216",
   "metadata": {},
   "outputs": [],
   "source": [
    "y=df['GLD']"
   ]
  },
  {
   "cell_type": "code",
   "execution_count": 30,
   "id": "cbb75f01",
   "metadata": {},
   "outputs": [
    {
     "data": {
      "text/html": [
       "<div>\n",
       "<style scoped>\n",
       "    .dataframe tbody tr th:only-of-type {\n",
       "        vertical-align: middle;\n",
       "    }\n",
       "\n",
       "    .dataframe tbody tr th {\n",
       "        vertical-align: top;\n",
       "    }\n",
       "\n",
       "    .dataframe thead th {\n",
       "        text-align: right;\n",
       "    }\n",
       "</style>\n",
       "<table border=\"1\" class=\"dataframe\">\n",
       "  <thead>\n",
       "    <tr style=\"text-align: right;\">\n",
       "      <th></th>\n",
       "      <th>SPX</th>\n",
       "      <th>USO</th>\n",
       "      <th>SLV</th>\n",
       "      <th>EUR/USD</th>\n",
       "    </tr>\n",
       "  </thead>\n",
       "  <tbody>\n",
       "    <tr>\n",
       "      <th>0</th>\n",
       "      <td>1447.160034</td>\n",
       "      <td>78.470001</td>\n",
       "      <td>15.1800</td>\n",
       "      <td>1.471692</td>\n",
       "    </tr>\n",
       "    <tr>\n",
       "      <th>1</th>\n",
       "      <td>1447.160034</td>\n",
       "      <td>78.370003</td>\n",
       "      <td>15.2850</td>\n",
       "      <td>1.474491</td>\n",
       "    </tr>\n",
       "    <tr>\n",
       "      <th>2</th>\n",
       "      <td>1411.630005</td>\n",
       "      <td>77.309998</td>\n",
       "      <td>15.1670</td>\n",
       "      <td>1.475492</td>\n",
       "    </tr>\n",
       "    <tr>\n",
       "      <th>3</th>\n",
       "      <td>1416.180054</td>\n",
       "      <td>75.500000</td>\n",
       "      <td>15.0530</td>\n",
       "      <td>1.468299</td>\n",
       "    </tr>\n",
       "    <tr>\n",
       "      <th>4</th>\n",
       "      <td>1390.189941</td>\n",
       "      <td>76.059998</td>\n",
       "      <td>15.5900</td>\n",
       "      <td>1.557099</td>\n",
       "    </tr>\n",
       "    <tr>\n",
       "      <th>...</th>\n",
       "      <td>...</td>\n",
       "      <td>...</td>\n",
       "      <td>...</td>\n",
       "      <td>...</td>\n",
       "    </tr>\n",
       "    <tr>\n",
       "      <th>2285</th>\n",
       "      <td>2671.919922</td>\n",
       "      <td>14.060000</td>\n",
       "      <td>15.5100</td>\n",
       "      <td>1.186789</td>\n",
       "    </tr>\n",
       "    <tr>\n",
       "      <th>2286</th>\n",
       "      <td>2697.790039</td>\n",
       "      <td>14.370000</td>\n",
       "      <td>15.5300</td>\n",
       "      <td>1.184722</td>\n",
       "    </tr>\n",
       "    <tr>\n",
       "      <th>2287</th>\n",
       "      <td>2723.070068</td>\n",
       "      <td>14.410000</td>\n",
       "      <td>15.7400</td>\n",
       "      <td>1.191753</td>\n",
       "    </tr>\n",
       "    <tr>\n",
       "      <th>2288</th>\n",
       "      <td>2730.129883</td>\n",
       "      <td>14.380000</td>\n",
       "      <td>15.5600</td>\n",
       "      <td>1.193118</td>\n",
       "    </tr>\n",
       "    <tr>\n",
       "      <th>2289</th>\n",
       "      <td>2725.780029</td>\n",
       "      <td>14.405800</td>\n",
       "      <td>15.4542</td>\n",
       "      <td>1.182033</td>\n",
       "    </tr>\n",
       "  </tbody>\n",
       "</table>\n",
       "<p>2290 rows × 4 columns</p>\n",
       "</div>"
      ],
      "text/plain": [
       "              SPX        USO      SLV   EUR/USD\n",
       "0     1447.160034  78.470001  15.1800  1.471692\n",
       "1     1447.160034  78.370003  15.2850  1.474491\n",
       "2     1411.630005  77.309998  15.1670  1.475492\n",
       "3     1416.180054  75.500000  15.0530  1.468299\n",
       "4     1390.189941  76.059998  15.5900  1.557099\n",
       "...           ...        ...      ...       ...\n",
       "2285  2671.919922  14.060000  15.5100  1.186789\n",
       "2286  2697.790039  14.370000  15.5300  1.184722\n",
       "2287  2723.070068  14.410000  15.7400  1.191753\n",
       "2288  2730.129883  14.380000  15.5600  1.193118\n",
       "2289  2725.780029  14.405800  15.4542  1.182033\n",
       "\n",
       "[2290 rows x 4 columns]"
      ]
     },
     "execution_count": 30,
     "metadata": {},
     "output_type": "execute_result"
    }
   ],
   "source": [
    "x"
   ]
  },
  {
   "cell_type": "code",
   "execution_count": 32,
   "id": "3aec3852",
   "metadata": {},
   "outputs": [
    {
     "data": {
      "text/plain": [
       "0        84.860001\n",
       "1        85.570000\n",
       "2        85.129997\n",
       "3        84.769997\n",
       "4        86.779999\n",
       "           ...    \n",
       "2285    124.589996\n",
       "2286    124.330002\n",
       "2287    125.180000\n",
       "2288    124.489998\n",
       "2289    122.543800\n",
       "Name: GLD, Length: 2290, dtype: float64"
      ]
     },
     "execution_count": 32,
     "metadata": {},
     "output_type": "execute_result"
    }
   ],
   "source": [
    "y"
   ]
  },
  {
   "cell_type": "code",
   "execution_count": 33,
   "id": "3ef98efc",
   "metadata": {},
   "outputs": [],
   "source": [
    "x_train,x_test,y_train,y_test=train_test_split(x,y,random_state=2,test_size=.2)"
   ]
  },
  {
   "cell_type": "code",
   "execution_count": 35,
   "id": "ce2593c9",
   "metadata": {},
   "outputs": [],
   "source": [
    "model=RandomForestRegressor(n_estimators=100)"
   ]
  },
  {
   "cell_type": "code",
   "execution_count": 36,
   "id": "897d34ec",
   "metadata": {},
   "outputs": [
    {
     "data": {
      "text/html": [
       "<style>#sk-container-id-1 {color: black;}#sk-container-id-1 pre{padding: 0;}#sk-container-id-1 div.sk-toggleable {background-color: white;}#sk-container-id-1 label.sk-toggleable__label {cursor: pointer;display: block;width: 100%;margin-bottom: 0;padding: 0.3em;box-sizing: border-box;text-align: center;}#sk-container-id-1 label.sk-toggleable__label-arrow:before {content: \"▸\";float: left;margin-right: 0.25em;color: #696969;}#sk-container-id-1 label.sk-toggleable__label-arrow:hover:before {color: black;}#sk-container-id-1 div.sk-estimator:hover label.sk-toggleable__label-arrow:before {color: black;}#sk-container-id-1 div.sk-toggleable__content {max-height: 0;max-width: 0;overflow: hidden;text-align: left;background-color: #f0f8ff;}#sk-container-id-1 div.sk-toggleable__content pre {margin: 0.2em;color: black;border-radius: 0.25em;background-color: #f0f8ff;}#sk-container-id-1 input.sk-toggleable__control:checked~div.sk-toggleable__content {max-height: 200px;max-width: 100%;overflow: auto;}#sk-container-id-1 input.sk-toggleable__control:checked~label.sk-toggleable__label-arrow:before {content: \"▾\";}#sk-container-id-1 div.sk-estimator input.sk-toggleable__control:checked~label.sk-toggleable__label {background-color: #d4ebff;}#sk-container-id-1 div.sk-label input.sk-toggleable__control:checked~label.sk-toggleable__label {background-color: #d4ebff;}#sk-container-id-1 input.sk-hidden--visually {border: 0;clip: rect(1px 1px 1px 1px);clip: rect(1px, 1px, 1px, 1px);height: 1px;margin: -1px;overflow: hidden;padding: 0;position: absolute;width: 1px;}#sk-container-id-1 div.sk-estimator {font-family: monospace;background-color: #f0f8ff;border: 1px dotted black;border-radius: 0.25em;box-sizing: border-box;margin-bottom: 0.5em;}#sk-container-id-1 div.sk-estimator:hover {background-color: #d4ebff;}#sk-container-id-1 div.sk-parallel-item::after {content: \"\";width: 100%;border-bottom: 1px solid gray;flex-grow: 1;}#sk-container-id-1 div.sk-label:hover label.sk-toggleable__label {background-color: #d4ebff;}#sk-container-id-1 div.sk-serial::before {content: \"\";position: absolute;border-left: 1px solid gray;box-sizing: border-box;top: 0;bottom: 0;left: 50%;z-index: 0;}#sk-container-id-1 div.sk-serial {display: flex;flex-direction: column;align-items: center;background-color: white;padding-right: 0.2em;padding-left: 0.2em;position: relative;}#sk-container-id-1 div.sk-item {position: relative;z-index: 1;}#sk-container-id-1 div.sk-parallel {display: flex;align-items: stretch;justify-content: center;background-color: white;position: relative;}#sk-container-id-1 div.sk-item::before, #sk-container-id-1 div.sk-parallel-item::before {content: \"\";position: absolute;border-left: 1px solid gray;box-sizing: border-box;top: 0;bottom: 0;left: 50%;z-index: -1;}#sk-container-id-1 div.sk-parallel-item {display: flex;flex-direction: column;z-index: 1;position: relative;background-color: white;}#sk-container-id-1 div.sk-parallel-item:first-child::after {align-self: flex-end;width: 50%;}#sk-container-id-1 div.sk-parallel-item:last-child::after {align-self: flex-start;width: 50%;}#sk-container-id-1 div.sk-parallel-item:only-child::after {width: 0;}#sk-container-id-1 div.sk-dashed-wrapped {border: 1px dashed gray;margin: 0 0.4em 0.5em 0.4em;box-sizing: border-box;padding-bottom: 0.4em;background-color: white;}#sk-container-id-1 div.sk-label label {font-family: monospace;font-weight: bold;display: inline-block;line-height: 1.2em;}#sk-container-id-1 div.sk-label-container {text-align: center;}#sk-container-id-1 div.sk-container {/* jupyter's `normalize.less` sets `[hidden] { display: none; }` but bootstrap.min.css set `[hidden] { display: none !important; }` so we also need the `!important` here to be able to override the default hidden behavior on the sphinx rendered scikit-learn.org. See: https://github.com/scikit-learn/scikit-learn/issues/21755 */display: inline-block !important;position: relative;}#sk-container-id-1 div.sk-text-repr-fallback {display: none;}</style><div id=\"sk-container-id-1\" class=\"sk-top-container\"><div class=\"sk-text-repr-fallback\"><pre>RandomForestRegressor()</pre><b>In a Jupyter environment, please rerun this cell to show the HTML representation or trust the notebook. <br />On GitHub, the HTML representation is unable to render, please try loading this page with nbviewer.org.</b></div><div class=\"sk-container\" hidden><div class=\"sk-item\"><div class=\"sk-estimator sk-toggleable\"><input class=\"sk-toggleable__control sk-hidden--visually\" id=\"sk-estimator-id-1\" type=\"checkbox\" checked><label for=\"sk-estimator-id-1\" class=\"sk-toggleable__label sk-toggleable__label-arrow\">RandomForestRegressor</label><div class=\"sk-toggleable__content\"><pre>RandomForestRegressor()</pre></div></div></div></div></div>"
      ],
      "text/plain": [
       "RandomForestRegressor()"
      ]
     },
     "execution_count": 36,
     "metadata": {},
     "output_type": "execute_result"
    }
   ],
   "source": [
    "model.fit(x_train,y_train)"
   ]
  },
  {
   "cell_type": "code",
   "execution_count": 37,
   "id": "feef5200",
   "metadata": {},
   "outputs": [],
   "source": [
    "test_data_prediction=model.predict(x_test)"
   ]
  },
  {
   "cell_type": "code",
   "execution_count": 47,
   "id": "41454d1d",
   "metadata": {},
   "outputs": [
    {
     "data": {
      "text/plain": [
       "array([168.19389957,  82.09099965, 115.95790015, 127.61510081,\n",
       "       120.66780149, 154.65929793, 150.61169823, 126.16660013,\n",
       "       117.46949892, 125.95250115, 116.83320106, 171.61070096,\n",
       "       141.25759787, 167.74709894, 115.30819976, 117.60490062,\n",
       "       136.14580321, 170.10419994, 159.51790278, 155.16869951,\n",
       "       155.04019996, 125.18300054, 175.86899976, 157.70270281,\n",
       "       125.24630038,  93.73449975,  77.7607997 , 120.4067    ,\n",
       "       119.05779966, 167.47309908,  88.04380076, 125.12269999,\n",
       "        91.37570077, 117.63880052, 121.14689907, 136.49320091,\n",
       "       115.5865014 , 115.06310069, 147.97120023, 107.22980114,\n",
       "       104.26960243,  87.17029795, 126.45610042, 117.95280008,\n",
       "       152.97159927, 119.66860018, 108.4005998 , 107.9485983 ,\n",
       "        93.1226002 , 127.10389786,  75.17580006, 113.64669934,\n",
       "       121.46899989, 111.34799933, 118.95629902, 120.64379948,\n",
       "       158.89200063, 168.85800093, 146.84809657,  85.91569902,\n",
       "        94.44580018,  86.81649907,  90.46970009, 118.93130075,\n",
       "       126.54400055, 127.61620012, 168.48930059, 122.30919938,\n",
       "       117.43749898,  98.57920044, 168.27880131, 143.38099797,\n",
       "       132.33980244, 121.16460209, 120.53349965, 119.77010048,\n",
       "       114.62260163, 118.48310025, 107.10590109, 127.89050082,\n",
       "       113.77909988, 107.33000004, 116.37320087, 119.61169846,\n",
       "        89.11160072,  88.30219899, 145.96530243, 127.45450037,\n",
       "       113.4527004 , 110.39259863, 108.26729917,  77.5347989 ,\n",
       "       169.73520201, 114.03439906, 121.74049903, 128.01720157,\n",
       "       154.94429828,  91.72719936, 135.18950166, 159.25780328,\n",
       "       125.25020062, 125.50650055, 130.93500249, 114.9358013 ,\n",
       "       119.72680005,  92.19569958, 109.98549867, 166.95290013,\n",
       "       157.87789808, 114.15799938, 106.69240134,  79.62609976,\n",
       "       113.35350015, 125.83950078, 106.96899959, 119.52900098,\n",
       "       156.25320372, 159.92579912, 120.1867999 , 135.13110241,\n",
       "       101.25700009, 117.52319764, 119.30080058, 112.96840074,\n",
       "       102.81399905, 160.04589705,  99.6757003 , 147.90399921,\n",
       "       125.48900107, 170.33279877, 125.89519916, 127.39559743,\n",
       "       127.29580158, 113.89889906, 112.8596008 , 123.67989899,\n",
       "       102.25089901,  89.31069997, 124.45209966, 102.1541996 ,\n",
       "       107.26629891, 113.30980022, 117.34030048,  99.54649964,\n",
       "       121.71390066, 163.23269931,  87.35489865, 106.79049985,\n",
       "       117.14680107, 127.70040184, 124.07040061,  80.63319919,\n",
       "       120.27400096, 159.03519756,  87.79649992, 110.1841995 ,\n",
       "       118.8043991 , 172.48909889, 102.90619885, 105.75770065,\n",
       "       122.39190027, 158.89419748,  87.6093982 ,  93.44530046,\n",
       "       112.78070044, 176.81339973, 114.36249978, 119.28500042,\n",
       "        94.90520063, 125.84130045, 166.21030159, 114.8968005 ,\n",
       "       116.55220167,  88.30709878, 149.0924011 , 120.37499959,\n",
       "        89.27609989, 111.06409976, 117.22900019, 118.72130118,\n",
       "        88.23309959,  94.40559962, 116.8123998 , 118.55210157,\n",
       "       120.34750066, 126.76509823, 121.85319981, 149.44170026,\n",
       "       166.07610061, 118.45289981, 120.51350146, 150.678701  ,\n",
       "       118.3033992 , 172.93909906, 105.72139956, 104.87410145,\n",
       "       149.1577011 , 113.67590053, 124.86990112, 147.27469988,\n",
       "       119.60900125, 115.37490038, 112.12849974, 113.53010171,\n",
       "       141.54730204, 117.89799767, 102.99490087, 115.9127014 ,\n",
       "       103.46900164,  98.94290041, 117.59890065,  90.62429998,\n",
       "        91.3812007 , 153.61699869, 102.70379976, 154.6290011 ,\n",
       "       114.47450135, 138.94600096,  90.12819775, 115.53659944,\n",
       "       114.36409958, 122.80810022, 121.73220027, 165.4170016 ,\n",
       "        92.84829963, 135.53810137, 121.45129871, 120.84110062,\n",
       "       104.73680016, 141.73010258, 122.00829955, 116.56790053,\n",
       "       113.17610075, 127.14459788, 122.58889953, 125.9002988 ,\n",
       "       121.25480026,  86.80059928, 132.4698016 , 144.18450211,\n",
       "        92.79779938, 160.0234988 , 159.58500232, 126.41119861,\n",
       "       165.36519986, 108.78189964, 109.33230062, 103.71009858,\n",
       "        94.36460073, 127.76810277, 107.03870088, 163.76909925,\n",
       "       121.58710035, 132.15220049, 130.96790228, 160.7605001 ,\n",
       "        90.1812984 , 175.38760201, 128.0560008 , 126.92649875,\n",
       "        86.21749913, 124.44419892, 150.10549752,  89.54570036,\n",
       "       106.94629992, 109.06080008,  84.59629894, 135.80569938,\n",
       "       154.89570157, 139.51620335,  73.88560038, 152.51140185,\n",
       "       125.68409971, 126.8473001 , 127.54939885, 108.50629933,\n",
       "       156.38519951, 114.73150124, 116.88700141, 125.10989982,\n",
       "       153.78260145, 121.37030014, 156.3945989 ,  93.10220059,\n",
       "       125.50000141, 125.53590016,  87.81300025,  92.21649938,\n",
       "       126.29529945, 128.19800345, 113.15840062, 117.49089715,\n",
       "       120.86910029, 127.27259764, 119.35600142, 136.33040088,\n",
       "        93.9818    , 119.91630021, 113.16760095,  94.40769982,\n",
       "       108.87949949,  87.503999  , 108.57299926,  89.48349999,\n",
       "        92.32080012, 131.89210329, 162.42710028,  89.38300001,\n",
       "       119.66830097, 133.31950184, 123.73269985, 128.56470175,\n",
       "       102.04299861,  89.05899858, 131.72050051, 119.73990034,\n",
       "       108.42160008, 168.86810079, 115.29200041,  86.6358992 ,\n",
       "       118.91980065,  91.02929985, 161.32320061, 116.62030051,\n",
       "       121.51840024, 160.32419816, 120.11799944, 113.04579944,\n",
       "       108.54159884, 126.78920019,  76.31330037, 102.97389977,\n",
       "       127.51090243, 121.81639907,  92.61190001, 132.20780027,\n",
       "       117.90580181, 116.1460996 , 154.94640224, 159.05080033,\n",
       "       109.98629986, 155.04839836, 119.26920094, 160.7304004 ,\n",
       "       118.54600015, 159.10189933, 115.05719965, 116.64100025,\n",
       "       149.05539913, 114.94420081, 125.74299852, 166.10709948,\n",
       "       117.60120008, 124.86579936, 153.29300368, 153.37690241,\n",
       "       132.27220101, 114.69800021, 121.22970204, 125.19940079,\n",
       "        89.87180027, 123.24079997, 154.66320159, 111.75110046,\n",
       "       106.67499994, 162.08590075, 118.57349975, 165.65730037,\n",
       "       134.25840066, 114.71309938, 152.97369837, 168.38759901,\n",
       "       114.59770048, 114.03570127, 158.31809895,  85.06799925,\n",
       "       127.16140027, 127.82140046, 128.95599954, 124.2080006 ,\n",
       "       123.88370053,  90.62570101, 153.30429981,  97.17939975,\n",
       "       138.0113004 ,  88.94599922, 107.36190006, 115.08870049,\n",
       "       112.95830088, 124.09679928,  91.3912987 , 125.23040096,\n",
       "       162.46629884, 119.74569898, 165.08700084, 126.89289797,\n",
       "       112.32060043, 127.51299916,  94.94709904,  91.09509995,\n",
       "       103.87919935, 120.73910023,  83.18689938, 126.35309984,\n",
       "       160.24070486, 117.31420081, 118.37609997, 119.79709994,\n",
       "       122.83789979, 120.10730112, 121.53869972, 118.12460044,\n",
       "       107.03630014, 147.96749961, 126.36459895, 115.73490093,\n",
       "        73.85540025, 127.79630113, 154.97860146, 121.70140002,\n",
       "       125.52130063,  88.77149998, 103.75179858, 124.4117005 ,\n",
       "       120.24510016,  73.23990104, 151.45220012, 121.40990021,\n",
       "       104.69150008,  86.60689791, 115.00399906, 172.29339799,\n",
       "       119.83190044, 160.78309738, 113.19909932, 121.20110023,\n",
       "       118.43070176,  95.9837999 , 118.83320013, 126.10410012,\n",
       "       118.70669983,  96.00860054, 153.65140175, 121.93690022,\n",
       "       147.5961001 , 159.63140169, 113.79630019, 122.53069955,\n",
       "       149.17609808, 127.1409004 , 165.7423005 , 135.15280046,\n",
       "       119.98969982, 166.68709906, 108.35669922, 121.77069828,\n",
       "       139.49430117, 107.05349919])"
      ]
     },
     "execution_count": 47,
     "metadata": {},
     "output_type": "execute_result"
    }
   ],
   "source": [
    "test_data_prediction"
   ]
  },
  {
   "cell_type": "code",
   "execution_count": 42,
   "id": "cde819ff",
   "metadata": {},
   "outputs": [],
   "source": [
    "error_score=metrics.r2_score(y_test,test_data_prediction)"
   ]
  },
  {
   "cell_type": "code",
   "execution_count": 43,
   "id": "2a6ed872",
   "metadata": {},
   "outputs": [
    {
     "data": {
      "text/plain": [
       "0.9883888282648488"
      ]
     },
     "execution_count": 43,
     "metadata": {},
     "output_type": "execute_result"
    }
   ],
   "source": [
    "error_score"
   ]
  },
  {
   "cell_type": "code",
   "execution_count": 44,
   "id": "47e04aac",
   "metadata": {},
   "outputs": [],
   "source": [
    "y_test=list(y_test)"
   ]
  },
  {
   "cell_type": "code",
   "execution_count": 46,
   "id": "a0d7a7a3",
   "metadata": {},
   "outputs": [
    {
     "data": {
      "image/png": "[encoded data removed]",
      "text/plain": [
       "<Figure size 640x480 with 1 Axes>"
      ]
     },
     "metadata": {},
     "output_type": "display_data"
    }
   ],
   "source": [
    "plt.plot(y_test,color='black', label='Actual Value')\n",
    "plt.plot(test_data_prediction,color='red', label='Predicted Value')\n",
    "plt.title('Actual Price Vs Predicted Price')\n",
    "plt.xlabel('Number of value')\n",
    "plt.ylabel('Gold Price')\n",
    "plt.legend()\n",
    "plt.show()"
   ]
  },
  {
   "cell_type": "code",
   "execution_count": null,
   "id": "7ec78e96",
   "metadata": {},
   "outputs": [],
   "source": []
  }
 ],
 "metadata": {
  "kernelspec": {
   "display_name": "Python 3 (ipykernel)",
   "language": "python",
   "name": "python3"
  },
  "language_info": {
   "codemirror_mode": {
    "name": "ipython",
    "version": 3
   },
   "file_extension": ".py",
   "mimetype": "text/x-python",
   "name": "python",
   "nbconvert_exporter": "python",
   "pygments_lexer": "ipython3",
   "version": "3.11.5"
  }
 },
 "nbformat": 4,
 "nbformat_minor": 5
}
